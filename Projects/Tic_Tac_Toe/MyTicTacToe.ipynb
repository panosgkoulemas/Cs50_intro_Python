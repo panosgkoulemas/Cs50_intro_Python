{
 "cells": [
  {
   "cell_type": "code",
   "execution_count": 7,
   "id": "32c86adb",
   "metadata": {},
   "outputs": [],
   "source": [
    "def display_board(board):\n",
    "    print(\"\\n\"*100) #to not show all the boards every time\n",
    "    count = 0\n",
    "    for x in range(0,3):\n",
    "        print(\"     |     |    \")\n",
    "        print(\"  {}  |  {}  |  {}  \".format(board[7 - 3 * count - 1], board[8 - 3 * count - 1], board[9 - 3 * count - 1]))\n",
    "        if count != 2:\n",
    "            print(\"_____|_____|_____\")\n",
    "            print(\"     |     |    \")  \n",
    "        count += 1"
   ]
  },
  {
   "cell_type": "code",
   "execution_count": 8,
   "id": "1fdd719b",
   "metadata": {},
   "outputs": [],
   "source": [
    "def x_or_o(xo):\n",
    "    choice = [\"X\", \"O\", \"x\", \"o\"]\n",
    "    print(\"Player 1 \")\n",
    "    ans = input(\"Do you want to play with X or O: \")\n",
    "    while ans not in choice:\n",
    "        print(\"I don't understand. Please answer X or O!\")\n",
    "        ans = input(\"Do you want to play with X or O: \")\n",
    "    if ans == \"X\" or ans == \"x\":\n",
    "        xo[0] = \"X\"\n",
    "        xo[1] = \"O\"\n",
    "        return xo\n",
    "    elif ans == \"O\" or ans == \"o\":\n",
    "        xo[0] = \"O\"\n",
    "        xo[1] = \"X\"\n",
    "    return xo"
   ]
  },
  {
   "cell_type": "code",
   "execution_count": 9,
   "id": "b73c5fee",
   "metadata": {},
   "outputs": [],
   "source": [
    "def players_move():\n",
    "    choice = \"Wrong\"\n",
    "    enable = False\n",
    "    \n",
    "    while not enable:\n",
    "        choice = input(\"Choose your next position (1 - 9): \")\n",
    "        if choice.isdigit() == False:\n",
    "            print(\"This in not a number!\")\n",
    "        elif choice.isdigit() and (int(choice) not in range(1,10)):\n",
    "            print(\"Number out of the required range (1-9)!\")\n",
    "        else:\n",
    "            enable = True\n",
    "            return int(choice)"
   ]
  },
  {
   "cell_type": "code",
   "execution_count": 10,
   "id": "636be52f",
   "metadata": {},
   "outputs": [],
   "source": [
    "def replace_board(board, position, xo):\n",
    "  board[position - 1] = xo\n",
    "  return board"
   ]
  },
  {
   "cell_type": "code",
   "execution_count": 11,
   "id": "3c2612c0",
   "metadata": {},
   "outputs": [],
   "source": [
    "def game_result(board):\n",
    "    #0: game_on   1: win  2: tie\n",
    "    win = 0\n",
    "    count = 0\n",
    "    for x in range(0,3):\n",
    "        if board[7 - 3*x - 1] == board[8 - 3*x - 1] == board[9 - 3*x - 1] != \" \":\n",
    "            win = 1\n",
    "            break\n",
    "        elif board[7 + x - 1] == board[4 + x - 1] == board[1 + x - 1] != \" \":\n",
    "            win = 1\n",
    "            break\n",
    "    for y in range(0,2):\n",
    "        if board[7 + 2*y - 1] == board[5 - 1] == board[3 - 2*y - 1] != \" \":\n",
    "            win = 1\n",
    "            break\n",
    "    \n",
    "    for k in range(0,9):\n",
    "        if board[k] == \" \":\n",
    "                break\n",
    "        else:\n",
    "            count += 1\n",
    "    if count == 9 and win == 0:\n",
    "        win = 2\n",
    "        \n",
    "    return win"
   ]
  },
  {
   "cell_type": "code",
   "execution_count": 12,
   "id": "e83c8898",
   "metadata": {},
   "outputs": [],
   "source": [
    "def game_on():\n",
    "    choice = [\"Y\", \"y\", \"N\", \"n\"]\n",
    "    ans = input(\"Do you wanna play again? Y or N: \")\n",
    "    while ans not in choice:\n",
    "        print(\"I don't understand. Please answer Y or N\")\n",
    "        ans = input(\"Do you wanna play again? Y or N: \")\n",
    "    if ans == \"Y\" or ans == \"y\":\n",
    "        return True\n",
    "    elif ans == \"N\" or ans == \"n\":\n",
    "        return False"
   ]
  }
 ],
 "metadata": {
  "kernelspec": {
   "display_name": "Python 3 (ipykernel)",
   "language": "python",
   "name": "python3"
  },
  "language_info": {
   "codemirror_mode": {
    "name": "ipython",
    "version": 3
   },
   "file_extension": ".py",
   "mimetype": "text/x-python",
   "name": "python",
   "nbconvert_exporter": "python",
   "pygments_lexer": "ipython3",
   "version": "3.11.4"
  }
 },
 "nbformat": 4,
 "nbformat_minor": 5
}
