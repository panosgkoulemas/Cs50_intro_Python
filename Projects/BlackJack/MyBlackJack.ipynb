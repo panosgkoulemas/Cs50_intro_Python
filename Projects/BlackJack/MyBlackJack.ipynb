{
 "cells": [
  {
   "cell_type": "code",
   "execution_count": 45,
   "id": "957b9bca",
   "metadata": {},
   "outputs": [],
   "source": [
    "#CARDS\n",
    "import random\n",
    "suits = (\"Clubs\", \"Spades\", \"Hearts\", \"Diamonds\")\n",
    "ranks = (\"2\", \"3\", \"4\", \"5\", \"6\", \"7\", \"8\",\n",
    "         \"9\", \"10\", \"J\", \"Q\", \"K\", \"A\")\n",
    "values = {\"2\": 2, \"3\": 3, \"4\": 4, \"5\": 5, \"6\": 6, \"7\": 7, \"8\": 8,\n",
    "         \"9\": 9, \"10\": 10, \"J\": 10, \"Q\": 10, \"K\": 10, \"A\": 11}\n",
    "playing = True\n",
    "replay = True"
   ]
  },
  {
   "cell_type": "code",
   "execution_count": 46,
   "id": "621c6641",
   "metadata": {},
   "outputs": [],
   "source": [
    "#Card Class\n",
    "class Card:\n",
    "\n",
    "    def __init__(self, suit, rank):\n",
    "        self.suit = suit\n",
    "        self.rank = rank\n",
    "        self.value = values[rank]\n",
    "\n",
    "    def __str__(self):\n",
    "        return f\"{self.rank} of {self.suit}\""
   ]
  },
  {
   "cell_type": "code",
   "execution_count": 47,
   "id": "b4471d39",
   "metadata": {},
   "outputs": [],
   "source": [
    "#Deck Class\n",
    "class Deck:\n",
    "\n",
    "    def __init__(self):\n",
    "        self.all_cards = []\n",
    "        for suit in suits:\n",
    "            for rank in ranks:\n",
    "                created_card = Card(suit, rank)\n",
    "                self.all_cards.append(created_card)\n",
    "\n",
    "    def shuffle_deck(self):\n",
    "        random.shuffle(self.all_cards)\n",
    "\n",
    "    def deal_one(self):\n",
    "        return self.all_cards.pop()\n",
    "\n",
    "    def __str__(self):\n",
    "        return f\"Deck has {len(self.all_cards)} cards left!\""
   ]
  },
  {
   "cell_type": "code",
   "execution_count": 48,
   "id": "4e3bcd00",
   "metadata": {},
   "outputs": [],
   "source": [
    "#Hand Class\n",
    "class Hand:\n",
    "\n",
    "    def __init__(self):\n",
    "        self.hand_cards = []\n",
    "        self.value = 0\n",
    "        self.aces = 0\n",
    "\n",
    "    def add_card(self, new_card):\n",
    "        self.hand_cards.append(new_card)\n",
    "\n",
    "    def check_value(self):\n",
    "        for card in self.hand_cards:\n",
    "            if card.rank == \"A\":\n",
    "                self.aces += 1\n",
    "            self.value += card.value\n",
    "        for ace in range(self.aces):\n",
    "            if self.value <= 21:\n",
    "                break\n",
    "            else:\n",
    "                self.value -= 10\n",
    "\n",
    "    def __str__(self):\n",
    "        hand = []\n",
    "        for card in self.hand_cards:\n",
    "            hand.append(card.rank)\n",
    "        return f\"Your Hand is {hand}\""
   ]
  },
  {
   "cell_type": "code",
   "execution_count": 49,
   "id": "f504154e",
   "metadata": {},
   "outputs": [],
   "source": [
    "#Chips Class\n",
    "class Chips:\n",
    "\n",
    "    def __init__(self, total):\n",
    "        self.total = total\n",
    "        self.bet = 0\n",
    "\n",
    "    def win_bet(self):\n",
    "        self.total += self.bet\n",
    "        print(f\"You won {self.bet} $\")\n",
    "\n",
    "    def lose_bet(self):\n",
    "        self.total -= self.bet\n",
    "        print(f\"You lost {self.bet} $\")\n",
    "\n",
    "    def __str__(self):\n",
    "        return f\"Your current total is {self.total} $\""
   ]
  },
  {
   "cell_type": "code",
   "execution_count": 50,
   "id": "4c03f9a3",
   "metadata": {},
   "outputs": [],
   "source": [
    "#Enter total players money\n",
    "def enter_players_chips(chip):\n",
    "    num = 0\n",
    "    while num <= 0:\n",
    "        try:\n",
    "            num = float(input(\"Enter your buy-in: \"))\n",
    "            if num <= 0:\n",
    "                print(\"Bet some money!\")\n",
    "        except:\n",
    "            print(\"This is not a valid answer! Try again!\")\n",
    "            continue\n",
    "    print(f\"You are in the game with a total of {num} $\")\n",
    "    chip.total = num"
   ]
  },
  {
   "cell_type": "code",
   "execution_count": 51,
   "id": "a9b726cb",
   "metadata": {},
   "outputs": [],
   "source": [
    "#Take bets\n",
    "def take_bet(chip):\n",
    "    num = 0\n",
    "    while num <= 0 or num > chip.total:\n",
    "        try:\n",
    "            num = float(input(\"Place your bet: \"))\n",
    "            if num > chip.total:\n",
    "                print(\"Not enough money to place this bet! Try again!\")\n",
    "            elif num <= 0:\n",
    "                print(\"This is not a valid bet! Try again!\")\n",
    "        except:\n",
    "            print(\"This is not a valid bet! Try again!\")\n",
    "            continue\n",
    "\n",
    "    print(\"Bet placed!\")\n",
    "    chip.bet = num"
   ]
  },
  {
   "cell_type": "code",
   "execution_count": 52,
   "id": "c1a02de3",
   "metadata": {},
   "outputs": [],
   "source": [
    "#Hit next card\n",
    "def hit(deck, hand):\n",
    "    hand.add_card(deck.deal_one())\n",
    "\n",
    "#Hit or stand option\n",
    "def hit_or_stand(deck, hand):\n",
    "    global playing\n",
    "    choices = [\"H\", \"h\", \"s\", \"S\"]\n",
    "    choice = False\n",
    "    while choice not in choices:\n",
    "        choice = input(\"Choose Hit or Stand (H or S): \")\n",
    "        if choice not in choices:\n",
    "            print(\"Try again! Please answer Hit or Stand (H or S)!\")\n",
    "    if choice == \"H\" or choice == \"h\":\n",
    "        hit(deck, hand)\n",
    "    elif choice == \"S\" or choice == \"s\":\n",
    "        playing = False"
   ]
  },
  {
   "cell_type": "code",
   "execution_count": 53,
   "id": "277ef8dc",
   "metadata": {},
   "outputs": [],
   "source": [
    "#Show dealer's hand\n",
    "def show_dealers_hand(dealer):\n",
    "    show = []\n",
    "    for card in dealer.hand_cards:\n",
    "        show.append(card.rank)\n",
    "    print(f\"Dealer's hand is {show[1:]} and one hidden card\")\n",
    "\n",
    "def show_all(hand, player):\n",
    "    show = []\n",
    "    for card in hand.hand_cards:\n",
    "        show.append(card.rank)\n",
    "    print(f\"{player}'s hand is {show} and value is {hand.value}\")"
   ]
  },
  {
   "cell_type": "code",
   "execution_count": 54,
   "id": "a8ce4a41",
   "metadata": {},
   "outputs": [],
   "source": [
    "#Play again ?\n",
    "def game_on():\n",
    "    choice = [\"Y\", \"y\", \"N\", \"n\"]\n",
    "    ans = ans = input(\"Do you wanna play again? Y or N: \")\n",
    "    while ans not in choice:\n",
    "        print(\"I don't understand. Please answer Y or N\")\n",
    "        ans = input(\"Do you wanna play again? Y or N: \")\n",
    "    if ans == \"Y\" or ans == \"y\":\n",
    "        return True\n",
    "    elif ans == \"N\" or ans == \"n\":\n",
    "        return False"
   ]
  }
 ],
 "metadata": {
  "kernelspec": {
   "display_name": "Python 3 (ipykernel)",
   "language": "python",
   "name": "python3"
  },
  "language_info": {
   "codemirror_mode": {
    "name": "ipython",
    "version": 3
   },
   "file_extension": ".py",
   "mimetype": "text/x-python",
   "name": "python",
   "nbconvert_exporter": "python",
   "pygments_lexer": "ipython3",
   "version": "3.11.4"
  }
 },
 "nbformat": 4,
 "nbformat_minor": 5
}
